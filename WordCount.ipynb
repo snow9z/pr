{
  "cells": [
    {
      "cell_type": "code",
      "source": [
        "!pip install pyspark findspark seaborn\n",
        "\n"
      ],
      "metadata": {
        "colab": {
          "base_uri": "https://localhost:8080/"
        },
        "id": "nMKLW4IiV219",
        "outputId": "e23374e8-f0e0-429a-9ea6-0d6f9c056971"
      },
      "id": "nMKLW4IiV219",
      "execution_count": 6,
      "outputs": [
        {
          "output_type": "stream",
          "name": "stdout",
          "text": [
            "Collecting pyspark\n",
            "  Downloading pyspark-3.5.1.tar.gz (317.0 MB)\n",
            "\u001b[2K     \u001b[90m━━━━━━━━━━━━━━━━━━━━━━━━━━━━━━━━━━━━━━━━\u001b[0m \u001b[32m317.0/317.0 MB\u001b[0m \u001b[31m4.7 MB/s\u001b[0m eta \u001b[36m0:00:00\u001b[0m\n",
            "\u001b[?25h  Preparing metadata (setup.py) ... \u001b[?25l\u001b[?25hdone\n",
            "Collecting findspark\n",
            "  Downloading findspark-2.0.1-py2.py3-none-any.whl (4.4 kB)\n",
            "Requirement already satisfied: seaborn in /usr/local/lib/python3.10/dist-packages (0.13.1)\n",
            "Requirement already satisfied: py4j==0.10.9.7 in /usr/local/lib/python3.10/dist-packages (from pyspark) (0.10.9.7)\n",
            "Requirement already satisfied: numpy!=1.24.0,>=1.20 in /usr/local/lib/python3.10/dist-packages (from seaborn) (1.25.2)\n",
            "Requirement already satisfied: pandas>=1.2 in /usr/local/lib/python3.10/dist-packages (from seaborn) (2.0.3)\n",
            "Requirement already satisfied: matplotlib!=3.6.1,>=3.4 in /usr/local/lib/python3.10/dist-packages (from seaborn) (3.7.1)\n",
            "Requirement already satisfied: contourpy>=1.0.1 in /usr/local/lib/python3.10/dist-packages (from matplotlib!=3.6.1,>=3.4->seaborn) (1.2.1)\n",
            "Requirement already satisfied: cycler>=0.10 in /usr/local/lib/python3.10/dist-packages (from matplotlib!=3.6.1,>=3.4->seaborn) (0.12.1)\n",
            "Requirement already satisfied: fonttools>=4.22.0 in /usr/local/lib/python3.10/dist-packages (from matplotlib!=3.6.1,>=3.4->seaborn) (4.51.0)\n",
            "Requirement already satisfied: kiwisolver>=1.0.1 in /usr/local/lib/python3.10/dist-packages (from matplotlib!=3.6.1,>=3.4->seaborn) (1.4.5)\n",
            "Requirement already satisfied: packaging>=20.0 in /usr/local/lib/python3.10/dist-packages (from matplotlib!=3.6.1,>=3.4->seaborn) (24.0)\n",
            "Requirement already satisfied: pillow>=6.2.0 in /usr/local/lib/python3.10/dist-packages (from matplotlib!=3.6.1,>=3.4->seaborn) (9.4.0)\n",
            "Requirement already satisfied: pyparsing>=2.3.1 in /usr/local/lib/python3.10/dist-packages (from matplotlib!=3.6.1,>=3.4->seaborn) (3.1.2)\n",
            "Requirement already satisfied: python-dateutil>=2.7 in /usr/local/lib/python3.10/dist-packages (from matplotlib!=3.6.1,>=3.4->seaborn) (2.8.2)\n",
            "Requirement already satisfied: pytz>=2020.1 in /usr/local/lib/python3.10/dist-packages (from pandas>=1.2->seaborn) (2023.4)\n",
            "Requirement already satisfied: tzdata>=2022.1 in /usr/local/lib/python3.10/dist-packages (from pandas>=1.2->seaborn) (2024.1)\n",
            "Requirement already satisfied: six>=1.5 in /usr/local/lib/python3.10/dist-packages (from python-dateutil>=2.7->matplotlib!=3.6.1,>=3.4->seaborn) (1.16.0)\n",
            "Building wheels for collected packages: pyspark\n",
            "  Building wheel for pyspark (setup.py) ... \u001b[?25l\u001b[?25hdone\n",
            "  Created wheel for pyspark: filename=pyspark-3.5.1-py2.py3-none-any.whl size=317488491 sha256=2bf5febd9bb5f808089229ad8760e85dfc67a29586404f657feae0dc4c513b7b\n",
            "  Stored in directory: /root/.cache/pip/wheels/80/1d/60/2c256ed38dddce2fdd93be545214a63e02fbd8d74fb0b7f3a6\n",
            "Successfully built pyspark\n",
            "Installing collected packages: findspark, pyspark\n",
            "Successfully installed findspark-2.0.1 pyspark-3.5.1\n"
          ]
        }
      ]
    },
    {
      "cell_type": "code",
      "execution_count": 12,
      "id": "72e1f5cd-97cf-4070-9f57-38498f9ec8c9",
      "metadata": {
        "id": "72e1f5cd-97cf-4070-9f57-38498f9ec8c9"
      },
      "outputs": [],
      "source": [
        "import findspark\n",
        "findspark.init()\n",
        "import pyspark\n",
        "from pyspark.sql import SparkSession\n"
      ]
    },
    {
      "cell_type": "code",
      "execution_count": 13,
      "id": "92e0f178-50af-4903-b9dd-603859ee3e13",
      "metadata": {
        "id": "92e0f178-50af-4903-b9dd-603859ee3e13"
      },
      "outputs": [],
      "source": [
        "spark=SparkSession.builder.getOrCreate()\n",
        "sc=spark.sparkContext\n"
      ]
    },
    {
      "cell_type": "code",
      "execution_count": 14,
      "id": "96071278-b314-411f-b494-98497dbe2ab5",
      "metadata": {
        "id": "96071278-b314-411f-b494-98497dbe2ab5"
      },
      "outputs": [],
      "source": [
        "# Read the input file and Calculating words count\n",
        "text_file = sc.textFile(\"input.txt\")\n",
        "counts = text_file.flatMap(lambda line: line.split(\" \")) \\\n",
        "                            .map(lambda word: (word, 1)) \\\n",
        "                           .reduceByKey(lambda x, y: x + y)"
      ]
    },
    {
      "cell_type": "code",
      "execution_count": 15,
      "id": "ee2ee3e5-5adc-4bfd-af6c-d5a1f1d8fa7f",
      "metadata": {
        "colab": {
          "base_uri": "https://localhost:8080/"
        },
        "id": "ee2ee3e5-5adc-4bfd-af6c-d5a1f1d8fa7f",
        "outputId": "237a3d41-a1f8-4c37-d4b3-61c3a8db256f"
      },
      "outputs": [
        {
          "output_type": "stream",
          "name": "stdout",
          "text": [
            "are: 2\n",
            ": 1\n",
            "jilo: 1\n",
            "hello: 2\n",
            "jay: 5\n",
            "how: 1\n",
            "you: 2\n",
            "hi: 1\n",
            "pello: 2\n",
            "pelloo: 1\n",
            "melo: 2\n"
          ]
        }
      ],
      "source": [
        "output = counts.collect()\n",
        "for (word, count) in output:\n",
        "    print(\"%s: %i\" % (word, count))"
      ]
    },
    {
      "cell_type": "code",
      "execution_count": 16,
      "id": "262e9f82-c558-4fb1-b493-a79bc033b418",
      "metadata": {
        "id": "262e9f82-c558-4fb1-b493-a79bc033b418"
      },
      "outputs": [],
      "source": [
        "sc.stop()\n",
        "spark.stop()"
      ]
    },
    {
      "cell_type": "code",
      "execution_count": 16,
      "id": "335f9d1f-c299-46cb-bcde-5c4cd70cb551",
      "metadata": {
        "id": "335f9d1f-c299-46cb-bcde-5c4cd70cb551"
      },
      "outputs": [],
      "source": []
    },
    {
      "cell_type": "code",
      "execution_count": null,
      "id": "22cbe224-63c3-4fba-96fa-aacee42c33f7",
      "metadata": {
        "id": "22cbe224-63c3-4fba-96fa-aacee42c33f7"
      },
      "outputs": [],
      "source": []
    },
    {
      "cell_type": "code",
      "execution_count": null,
      "id": "aad8fadb-ac76-4522-8a6f-8030d8bd6d92",
      "metadata": {
        "id": "aad8fadb-ac76-4522-8a6f-8030d8bd6d92"
      },
      "outputs": [],
      "source": []
    }
  ],
  "metadata": {
    "kernelspec": {
      "display_name": "Python 3 (ipykernel)",
      "language": "python",
      "name": "python3"
    },
    "language_info": {
      "codemirror_mode": {
        "name": "ipython",
        "version": 3
      },
      "file_extension": ".py",
      "mimetype": "text/x-python",
      "name": "python",
      "nbconvert_exporter": "python",
      "pygments_lexer": "ipython3",
      "version": "3.10.12"
    },
    "colab": {
      "provenance": []
    }
  },
  "nbformat": 4,
  "nbformat_minor": 5
}